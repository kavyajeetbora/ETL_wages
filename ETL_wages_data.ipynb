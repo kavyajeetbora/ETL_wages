{
  "nbformat": 4,
  "nbformat_minor": 0,
  "metadata": {
    "colab": {
      "provenance": [],
      "authorship_tag": "ABX9TyOFph1l4aimt2TemE2iNYWs",
      "include_colab_link": true
    },
    "kernelspec": {
      "name": "python3",
      "display_name": "Python 3"
    },
    "language_info": {
      "name": "python"
    }
  },
  "cells": [
    {
      "cell_type": "markdown",
      "metadata": {
        "id": "view-in-github",
        "colab_type": "text"
      },
      "source": [
        "<a href=\"https://colab.research.google.com/github/kavyajeetbora/ETL_wages/blob/master/ETL_wages_data.ipynb\" target=\"_parent\"><img src=\"https://colab.research.google.com/assets/colab-badge.svg\" alt=\"Open In Colab\"/></a>"
      ]
    },
    {
      "cell_type": "code",
      "source": [
        "# @title Setup the environment and Upload files\n",
        "\n",
        "# @markdown Run this only once otherwise restart the session\n",
        "!pip install aspose-cells\n",
        "import  jpype\n",
        "jpype.startJVM()\n",
        "from asposecells.api import Workbook\n",
        "import pandas as pd\n",
        "from glob import glob\n",
        "from tqdm.notebook import tqdm\n",
        "import os\n",
        "from google.colab import files\n",
        "\n",
        "def convert_xl2xlsx(filename):\n",
        "    if os.path.isfile(filename):\n",
        "        workbook = Workbook(filename)\n",
        "        export_filename = f\"{os.path.basename(filename)}.xlsx\"\n",
        "\n",
        "        if os.path.isfile(export_filename):\n",
        "            os.remove(export_filename)\n",
        "\n",
        "        workbook.save(export_filename)\n",
        "        return export_filename\n",
        "    else:\n",
        "        return None\n",
        "\n",
        "def preprocess_data(xlsx_file):\n",
        "    df = pd.read_excel(xlsx_file, header=[4,5], nrows=18)\n",
        "    df = df.drop(index=[0,1],axis=0).reset_index(drop=True)\n",
        "    df = df.set_index(df.columns[0])\n",
        "    df.index.names = ['Year']\n",
        "    # df.tail()\n",
        "    return df\n",
        "\n",
        "def unpivot_table(df):\n",
        "\n",
        "    df_out = {'year':[],'sector':[]}\n",
        "    sectors = []\n",
        "    years = []\n",
        "\n",
        "    for cols in df.columns:\n",
        "        i1,i2 = map(str.strip, cols)\n",
        "        values = list(df.loc[:,cols].values)\n",
        "\n",
        "        if i1 not in df_out.keys():\n",
        "            df_out.setdefault(i1,values)\n",
        "        else:\n",
        "            df_out[i1].extend(values)\n",
        "\n",
        "        i2 = i2.split(\"-\")[0].strip()\n",
        "        if i2 not in sectors:\n",
        "            df_out['sector'].extend([i2]*len(values))\n",
        "            df_out['year'].extend(df.index)\n",
        "        sectors.append(i2)\n",
        "\n",
        "    df_out = pd.DataFrame(df_out)\n",
        "    return df_out\n",
        "\n",
        "def post_process_df(df):\n",
        "    df_out = df.copy()\n",
        "    df_out = df_out.replace(r'^\\s*$', float('nan'), regex=True)\n",
        "    for col in df_out.columns[2:]:\n",
        "        df_out[col] = df_out[col].astype(float)\n",
        "    df_out['sector']=df_out['sector'].astype(int)\n",
        "    return df_out"
      ],
      "metadata": {
        "cellView": "form",
        "id": "XmZKfitfGl0Z"
      },
      "execution_count": null,
      "outputs": []
    },
    {
      "cell_type": "code",
      "source": [
        "# @title 1. Upload files\n",
        "## Clear all existing files\n",
        "_ = [os.remove(x) for x in os.listdir() if os.path.isfile(x)]\n",
        "\n",
        "# Prompt user to upload a folder\n",
        "uploaded = files.upload()"
      ],
      "metadata": {
        "cellView": "form",
        "id": "xa8aNJg5rlUd"
      },
      "execution_count": null,
      "outputs": []
    },
    {
      "cell_type": "code",
      "source": [
        "# @title 2. Process the data\n",
        "## ETL\n",
        "\n",
        "xl_files = glob(\"*.xls\")\n",
        "\n",
        "dfs = []\n",
        "for xl_file in tqdm(xl_files, unit=' xl file'):\n",
        "    try:\n",
        "        xlsx_file = convert_xl2xlsx(xl_file)\n",
        "\n",
        "        df = preprocess_data(xlsx_file)\n",
        "        df_out = unpivot_table(df)\n",
        "        df_out=post_process_df(df_out)\n",
        "        dfs.append(df_out)\n",
        "    except Exception as e:\n",
        "        print(xl_file,e)"
      ],
      "metadata": {
        "cellView": "form",
        "id": "z1YAsqS1q5j0"
      },
      "execution_count": null,
      "outputs": []
    },
    {
      "cell_type": "code",
      "source": [
        "# @title 3. Display Output\n",
        "df_final = pd.concat(dfs)\n",
        "df_final.sample(5)"
      ],
      "metadata": {
        "cellView": "form",
        "id": "S4CX9YYGfgAN"
      },
      "execution_count": null,
      "outputs": []
    },
    {
      "cell_type": "code",
      "source": [
        "# @title 4. Export the file\n",
        "## Clear all existing files once again\n",
        "\n",
        "_ = [os.remove(x) for x in os.listdir() if os.path.isfile(x)]\n",
        "df_final.to_excel(\"output.xlsx\")\n",
        "files.download('output.xlsx')"
      ],
      "metadata": {
        "cellView": "form",
        "id": "q-ny4RXriG6W"
      },
      "execution_count": 4,
      "outputs": []
    },
    {
      "cell_type": "markdown",
      "source": [
        "References\n",
        "\n",
        "1. [Apose cells](https://products.aspose.com/cells/python-java/conversion/xls-to-xlsx/)\n",
        "2. [Google forms](https://colab.research.google.com/notebooks/forms.ipynb)"
      ],
      "metadata": {
        "id": "hSyNO2Tup9IB"
      }
    }
  ]
}