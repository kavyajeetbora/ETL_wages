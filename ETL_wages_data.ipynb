{
  "nbformat": 4,
  "nbformat_minor": 0,
  "metadata": {
    "colab": {
      "provenance": [],
      "authorship_tag": "ABX9TyMeRbcgpHhkpECjzLtvXY1h"
    },
    "kernelspec": {
      "name": "python3",
      "display_name": "Python 3"
    },
    "language_info": {
      "name": "python"
    },
    "widgets": {
      "application/vnd.jupyter.widget-state+json": {
        "e9f31d418192474b8a65e45971cef71a": {
          "model_module": "@jupyter-widgets/controls",
          "model_name": "HBoxModel",
          "model_module_version": "1.5.0",
          "state": {
            "_dom_classes": [],
            "_model_module": "@jupyter-widgets/controls",
            "_model_module_version": "1.5.0",
            "_model_name": "HBoxModel",
            "_view_count": null,
            "_view_module": "@jupyter-widgets/controls",
            "_view_module_version": "1.5.0",
            "_view_name": "HBoxView",
            "box_style": "",
            "children": [
              "IPY_MODEL_299b29ac37fd4daf8ebc7a78e524145a",
              "IPY_MODEL_bfc90883b8ed422ebb90394aaa99b747",
              "IPY_MODEL_c7d6937c0807407fa03a1115227c7c70"
            ],
            "layout": "IPY_MODEL_1adb020018c947808689c3e875423728"
          }
        },
        "299b29ac37fd4daf8ebc7a78e524145a": {
          "model_module": "@jupyter-widgets/controls",
          "model_name": "HTMLModel",
          "model_module_version": "1.5.0",
          "state": {
            "_dom_classes": [],
            "_model_module": "@jupyter-widgets/controls",
            "_model_module_version": "1.5.0",
            "_model_name": "HTMLModel",
            "_view_count": null,
            "_view_module": "@jupyter-widgets/controls",
            "_view_module_version": "1.5.0",
            "_view_name": "HTMLView",
            "description": "",
            "description_tooltip": null,
            "layout": "IPY_MODEL_c527ed5d25cb448ea0986228d5de0532",
            "placeholder": "​",
            "style": "IPY_MODEL_d7adc6e81d5f403484c196c1d8bbaddc",
            "value": "100%"
          }
        },
        "bfc90883b8ed422ebb90394aaa99b747": {
          "model_module": "@jupyter-widgets/controls",
          "model_name": "FloatProgressModel",
          "model_module_version": "1.5.0",
          "state": {
            "_dom_classes": [],
            "_model_module": "@jupyter-widgets/controls",
            "_model_module_version": "1.5.0",
            "_model_name": "FloatProgressModel",
            "_view_count": null,
            "_view_module": "@jupyter-widgets/controls",
            "_view_module_version": "1.5.0",
            "_view_name": "ProgressView",
            "bar_style": "success",
            "description": "",
            "description_tooltip": null,
            "layout": "IPY_MODEL_ac08f69bb26b4fa4b18502bc31dc04ab",
            "max": 7,
            "min": 0,
            "orientation": "horizontal",
            "style": "IPY_MODEL_32c2f0864c5f40c69f5dc01d152e6f43",
            "value": 7
          }
        },
        "c7d6937c0807407fa03a1115227c7c70": {
          "model_module": "@jupyter-widgets/controls",
          "model_name": "HTMLModel",
          "model_module_version": "1.5.0",
          "state": {
            "_dom_classes": [],
            "_model_module": "@jupyter-widgets/controls",
            "_model_module_version": "1.5.0",
            "_model_name": "HTMLModel",
            "_view_count": null,
            "_view_module": "@jupyter-widgets/controls",
            "_view_module_version": "1.5.0",
            "_view_name": "HTMLView",
            "description": "",
            "description_tooltip": null,
            "layout": "IPY_MODEL_f0af10409f0f47a29b8f3bc0d201a519",
            "placeholder": "​",
            "style": "IPY_MODEL_ecfbddab019b4a2da4d40de324204766",
            "value": " 7/7 [00:08&lt;00:00,  1.48 xl file/s]"
          }
        },
        "1adb020018c947808689c3e875423728": {
          "model_module": "@jupyter-widgets/base",
          "model_name": "LayoutModel",
          "model_module_version": "1.2.0",
          "state": {
            "_model_module": "@jupyter-widgets/base",
            "_model_module_version": "1.2.0",
            "_model_name": "LayoutModel",
            "_view_count": null,
            "_view_module": "@jupyter-widgets/base",
            "_view_module_version": "1.2.0",
            "_view_name": "LayoutView",
            "align_content": null,
            "align_items": null,
            "align_self": null,
            "border": null,
            "bottom": null,
            "display": null,
            "flex": null,
            "flex_flow": null,
            "grid_area": null,
            "grid_auto_columns": null,
            "grid_auto_flow": null,
            "grid_auto_rows": null,
            "grid_column": null,
            "grid_gap": null,
            "grid_row": null,
            "grid_template_areas": null,
            "grid_template_columns": null,
            "grid_template_rows": null,
            "height": null,
            "justify_content": null,
            "justify_items": null,
            "left": null,
            "margin": null,
            "max_height": null,
            "max_width": null,
            "min_height": null,
            "min_width": null,
            "object_fit": null,
            "object_position": null,
            "order": null,
            "overflow": null,
            "overflow_x": null,
            "overflow_y": null,
            "padding": null,
            "right": null,
            "top": null,
            "visibility": null,
            "width": null
          }
        },
        "c527ed5d25cb448ea0986228d5de0532": {
          "model_module": "@jupyter-widgets/base",
          "model_name": "LayoutModel",
          "model_module_version": "1.2.0",
          "state": {
            "_model_module": "@jupyter-widgets/base",
            "_model_module_version": "1.2.0",
            "_model_name": "LayoutModel",
            "_view_count": null,
            "_view_module": "@jupyter-widgets/base",
            "_view_module_version": "1.2.0",
            "_view_name": "LayoutView",
            "align_content": null,
            "align_items": null,
            "align_self": null,
            "border": null,
            "bottom": null,
            "display": null,
            "flex": null,
            "flex_flow": null,
            "grid_area": null,
            "grid_auto_columns": null,
            "grid_auto_flow": null,
            "grid_auto_rows": null,
            "grid_column": null,
            "grid_gap": null,
            "grid_row": null,
            "grid_template_areas": null,
            "grid_template_columns": null,
            "grid_template_rows": null,
            "height": null,
            "justify_content": null,
            "justify_items": null,
            "left": null,
            "margin": null,
            "max_height": null,
            "max_width": null,
            "min_height": null,
            "min_width": null,
            "object_fit": null,
            "object_position": null,
            "order": null,
            "overflow": null,
            "overflow_x": null,
            "overflow_y": null,
            "padding": null,
            "right": null,
            "top": null,
            "visibility": null,
            "width": null
          }
        },
        "d7adc6e81d5f403484c196c1d8bbaddc": {
          "model_module": "@jupyter-widgets/controls",
          "model_name": "DescriptionStyleModel",
          "model_module_version": "1.5.0",
          "state": {
            "_model_module": "@jupyter-widgets/controls",
            "_model_module_version": "1.5.0",
            "_model_name": "DescriptionStyleModel",
            "_view_count": null,
            "_view_module": "@jupyter-widgets/base",
            "_view_module_version": "1.2.0",
            "_view_name": "StyleView",
            "description_width": ""
          }
        },
        "ac08f69bb26b4fa4b18502bc31dc04ab": {
          "model_module": "@jupyter-widgets/base",
          "model_name": "LayoutModel",
          "model_module_version": "1.2.0",
          "state": {
            "_model_module": "@jupyter-widgets/base",
            "_model_module_version": "1.2.0",
            "_model_name": "LayoutModel",
            "_view_count": null,
            "_view_module": "@jupyter-widgets/base",
            "_view_module_version": "1.2.0",
            "_view_name": "LayoutView",
            "align_content": null,
            "align_items": null,
            "align_self": null,
            "border": null,
            "bottom": null,
            "display": null,
            "flex": null,
            "flex_flow": null,
            "grid_area": null,
            "grid_auto_columns": null,
            "grid_auto_flow": null,
            "grid_auto_rows": null,
            "grid_column": null,
            "grid_gap": null,
            "grid_row": null,
            "grid_template_areas": null,
            "grid_template_columns": null,
            "grid_template_rows": null,
            "height": null,
            "justify_content": null,
            "justify_items": null,
            "left": null,
            "margin": null,
            "max_height": null,
            "max_width": null,
            "min_height": null,
            "min_width": null,
            "object_fit": null,
            "object_position": null,
            "order": null,
            "overflow": null,
            "overflow_x": null,
            "overflow_y": null,
            "padding": null,
            "right": null,
            "top": null,
            "visibility": null,
            "width": null
          }
        },
        "32c2f0864c5f40c69f5dc01d152e6f43": {
          "model_module": "@jupyter-widgets/controls",
          "model_name": "ProgressStyleModel",
          "model_module_version": "1.5.0",
          "state": {
            "_model_module": "@jupyter-widgets/controls",
            "_model_module_version": "1.5.0",
            "_model_name": "ProgressStyleModel",
            "_view_count": null,
            "_view_module": "@jupyter-widgets/base",
            "_view_module_version": "1.2.0",
            "_view_name": "StyleView",
            "bar_color": null,
            "description_width": ""
          }
        },
        "f0af10409f0f47a29b8f3bc0d201a519": {
          "model_module": "@jupyter-widgets/base",
          "model_name": "LayoutModel",
          "model_module_version": "1.2.0",
          "state": {
            "_model_module": "@jupyter-widgets/base",
            "_model_module_version": "1.2.0",
            "_model_name": "LayoutModel",
            "_view_count": null,
            "_view_module": "@jupyter-widgets/base",
            "_view_module_version": "1.2.0",
            "_view_name": "LayoutView",
            "align_content": null,
            "align_items": null,
            "align_self": null,
            "border": null,
            "bottom": null,
            "display": null,
            "flex": null,
            "flex_flow": null,
            "grid_area": null,
            "grid_auto_columns": null,
            "grid_auto_flow": null,
            "grid_auto_rows": null,
            "grid_column": null,
            "grid_gap": null,
            "grid_row": null,
            "grid_template_areas": null,
            "grid_template_columns": null,
            "grid_template_rows": null,
            "height": null,
            "justify_content": null,
            "justify_items": null,
            "left": null,
            "margin": null,
            "max_height": null,
            "max_width": null,
            "min_height": null,
            "min_width": null,
            "object_fit": null,
            "object_position": null,
            "order": null,
            "overflow": null,
            "overflow_x": null,
            "overflow_y": null,
            "padding": null,
            "right": null,
            "top": null,
            "visibility": null,
            "width": null
          }
        },
        "ecfbddab019b4a2da4d40de324204766": {
          "model_module": "@jupyter-widgets/controls",
          "model_name": "DescriptionStyleModel",
          "model_module_version": "1.5.0",
          "state": {
            "_model_module": "@jupyter-widgets/controls",
            "_model_module_version": "1.5.0",
            "_model_name": "DescriptionStyleModel",
            "_view_count": null,
            "_view_module": "@jupyter-widgets/base",
            "_view_module_version": "1.2.0",
            "_view_name": "StyleView",
            "description_width": ""
          }
        }
      }
    }
  },
  "cells": [
    {
      "cell_type": "markdown",
      "source": [
        "<a target=\"_blank\" href=\"https://colab.research.google.com/github/kavyajeetbora/ETL_wages/blob/master/ETL_wages_data.ipynb\">\n",
        "  <img src=\"https://colab.research.google.com/assets/colab-badge.svg\" alt=\"Open In Colab\"/>\n",
        "</a>"
      ],
      "metadata": {
        "id": "B__K1eh9tY_X"
      }
    },
    {
      "cell_type": "code",
      "source": [
        "# @title Setup the environment and Upload files\n",
        "\n",
        "# @markdown Run this only once otherwise restart the session\n",
        "!pip install aspose-cells\n",
        "import  jpype\n",
        "jpype.startJVM()\n",
        "from asposecells.api import Workbook\n",
        "import pandas as pd\n",
        "from glob import glob\n",
        "from tqdm.notebook import tqdm\n",
        "import os\n",
        "from google.colab import files\n",
        "\n",
        "def convert_xl2xlsx(filename):\n",
        "    '''\n",
        "    Convert xls file to xlsx\n",
        "    '''\n",
        "    if os.path.isfile(filename):\n",
        "        workbook = Workbook(filename)\n",
        "        export_filename = f\"{os.path.basename(filename)}.xlsx\"\n",
        "\n",
        "        if os.path.isfile(export_filename):\n",
        "            os.remove(export_filename)\n",
        "\n",
        "        workbook.save(export_filename)\n",
        "        return export_filename\n",
        "    else:\n",
        "        return None\n",
        "\n",
        "def preprocess_data(xlsx_file):\n",
        "    '''\n",
        "    Preprocessing the dataframe:\n",
        "    - setting the row id for table header\n",
        "    - Setting the year column as table index\n",
        "    - Limiting the table to the last year, current 18th row number\n",
        "    '''\n",
        "    df = pd.read_excel(xlsx_file, header=[4,5], nrows=18)\n",
        "    df = df.drop(index=[0,1],axis=0).reset_index(drop=True)\n",
        "    df = df.set_index(df.columns[0])\n",
        "    df.index.names = ['Year']\n",
        "    # df.tail()\n",
        "    return df\n",
        "\n",
        "def unpivot_table(df):\n",
        "    '''\n",
        "    Unpivot the table\n",
        "\n",
        "    '''\n",
        "    df_out = {'year':[],'sector':[]}\n",
        "    sectors = []\n",
        "    years = []\n",
        "\n",
        "    for cols in df.columns:\n",
        "        i1,i2 = map(str.strip, cols)\n",
        "        values = list(df.loc[:,cols].values)\n",
        "\n",
        "        if i1 not in df_out.keys():\n",
        "            df_out.setdefault(i1,values)\n",
        "        else:\n",
        "            df_out[i1].extend(values)\n",
        "\n",
        "        i2 = i2.split(\"-\")[0].strip()\n",
        "        if i2 not in sectors:\n",
        "            df_out['sector'].extend([i2]*len(values))\n",
        "            df_out['year'].extend(df.index)\n",
        "        sectors.append(i2)\n",
        "\n",
        "    df_out = pd.DataFrame(df_out)\n",
        "    return df_out\n",
        "\n",
        "def post_process_df(df):\n",
        "    df_out = df.copy()\n",
        "    df_out = df_out.replace(r'^\\s*$', float('nan'), regex=True)\n",
        "    for col in df_out.columns[2:]:\n",
        "        df_out[col] = df_out[col].astype(float)\n",
        "    df_out['sector']=df_out['sector'].astype(int)\n",
        "    return df_out"
      ],
      "metadata": {
        "id": "XmZKfitfGl0Z",
        "cellView": "form"
      },
      "execution_count": null,
      "outputs": []
    },
    {
      "cell_type": "code",
      "source": [
        "# @title 1. Upload files\n",
        "## Clear all existing files\n",
        "_ = [os.remove(x) for x in os.listdir() if os.path.isfile(x)]\n",
        "\n",
        "# Prompt user to upload a folder\n",
        "uploaded = files.upload()"
      ],
      "metadata": {
        "cellView": "form",
        "id": "xa8aNJg5rlUd"
      },
      "execution_count": null,
      "outputs": []
    },
    {
      "cell_type": "code",
      "source": [
        "# @title 2. Process the data\n",
        "## ETL\n",
        "\n",
        "xl_files = glob(\"*.xls\")\n",
        "\n",
        "dfs = []\n",
        "for xl_file in tqdm(xl_files, unit=' xl file'):\n",
        "    try:\n",
        "        xlsx_file = convert_xl2xlsx(xl_file)\n",
        "\n",
        "        df = preprocess_data(xlsx_file)\n",
        "        df_out = unpivot_table(df)\n",
        "        df_out=post_process_df(df_out)\n",
        "        dfs.append(df_out)\n",
        "    except Exception as e:\n",
        "        print(xl_file,e)"
      ],
      "metadata": {
        "cellView": "form",
        "id": "z1YAsqS1q5j0",
        "outputId": "e066602f-ab3a-4a30-dd77-ee71c1541e79",
        "colab": {
          "base_uri": "https://localhost:8080/",
          "height": 67,
          "referenced_widgets": [
            "e9f31d418192474b8a65e45971cef71a",
            "299b29ac37fd4daf8ebc7a78e524145a",
            "bfc90883b8ed422ebb90394aaa99b747",
            "c7d6937c0807407fa03a1115227c7c70",
            "1adb020018c947808689c3e875423728",
            "c527ed5d25cb448ea0986228d5de0532",
            "d7adc6e81d5f403484c196c1d8bbaddc",
            "ac08f69bb26b4fa4b18502bc31dc04ab",
            "32c2f0864c5f40c69f5dc01d152e6f43",
            "f0af10409f0f47a29b8f3bc0d201a519",
            "ecfbddab019b4a2da4d40de324204766"
          ]
        }
      },
      "execution_count": null,
      "outputs": [
        {
          "output_type": "display_data",
          "data": {
            "text/plain": [
              "  0%|          | 0/7 [00:00<?, ? xl file/s]"
            ],
            "application/vnd.jupyter.widget-view+json": {
              "version_major": 2,
              "version_minor": 0,
              "model_id": "e9f31d418192474b8a65e45971cef71a"
            }
          },
          "metadata": {}
        },
        {
          "output_type": "stream",
          "name": "stdout",
          "text": [
            "200_224_wages_1970.xls header index 4 exceeds maximum index 0 of data.\n"
          ]
        }
      ]
    },
    {
      "cell_type": "code",
      "source": [
        "# @title 3. Display Output\n",
        "df_final = pd.concat(dfs)\n",
        "df_final.sample(5)"
      ],
      "metadata": {
        "cellView": "form",
        "id": "S4CX9YYGfgAN"
      },
      "execution_count": null,
      "outputs": []
    },
    {
      "cell_type": "code",
      "source": [
        "# @title 4. Export the file\n",
        "## Clear all existing files once again\n",
        "\n",
        "_ = [os.remove(x) for x in os.listdir() if os.path.isfile(x)]\n",
        "df_final.to_excel(\"output.xlsx\")\n",
        "files.download('output.xlsx')"
      ],
      "metadata": {
        "cellView": "form",
        "id": "q-ny4RXriG6W",
        "outputId": "0ef418d3-5e51-49c6-ecd0-33a296f26124",
        "colab": {
          "base_uri": "https://localhost:8080/",
          "height": 17
        }
      },
      "execution_count": null,
      "outputs": [
        {
          "output_type": "display_data",
          "data": {
            "text/plain": [
              "<IPython.core.display.Javascript object>"
            ],
            "application/javascript": [
              "\n",
              "    async function download(id, filename, size) {\n",
              "      if (!google.colab.kernel.accessAllowed) {\n",
              "        return;\n",
              "      }\n",
              "      const div = document.createElement('div');\n",
              "      const label = document.createElement('label');\n",
              "      label.textContent = `Downloading \"${filename}\": `;\n",
              "      div.appendChild(label);\n",
              "      const progress = document.createElement('progress');\n",
              "      progress.max = size;\n",
              "      div.appendChild(progress);\n",
              "      document.body.appendChild(div);\n",
              "\n",
              "      const buffers = [];\n",
              "      let downloaded = 0;\n",
              "\n",
              "      const channel = await google.colab.kernel.comms.open(id);\n",
              "      // Send a message to notify the kernel that we're ready.\n",
              "      channel.send({})\n",
              "\n",
              "      for await (const message of channel.messages) {\n",
              "        // Send a message to notify the kernel that we're ready.\n",
              "        channel.send({})\n",
              "        if (message.buffers) {\n",
              "          for (const buffer of message.buffers) {\n",
              "            buffers.push(buffer);\n",
              "            downloaded += buffer.byteLength;\n",
              "            progress.value = downloaded;\n",
              "          }\n",
              "        }\n",
              "      }\n",
              "      const blob = new Blob(buffers, {type: 'application/binary'});\n",
              "      const a = document.createElement('a');\n",
              "      a.href = window.URL.createObjectURL(blob);\n",
              "      a.download = filename;\n",
              "      div.appendChild(a);\n",
              "      a.click();\n",
              "      div.remove();\n",
              "    }\n",
              "  "
            ]
          },
          "metadata": {}
        },
        {
          "output_type": "display_data",
          "data": {
            "text/plain": [
              "<IPython.core.display.Javascript object>"
            ],
            "application/javascript": [
              "download(\"download_79e1814d-bac2-4bbd-952b-818287174677\", \"output.xlsx\", 95353)"
            ]
          },
          "metadata": {}
        }
      ]
    },
    {
      "cell_type": "markdown",
      "source": [
        "References\n",
        "\n",
        "1. [Apose cells](https://products.aspose.com/cells/python-java/conversion/xls-to-xlsx/)\n",
        "2. [Google forms](https://colab.research.google.com/notebooks/forms.ipynb)"
      ],
      "metadata": {
        "id": "hSyNO2Tup9IB"
      }
    }
  ]
}